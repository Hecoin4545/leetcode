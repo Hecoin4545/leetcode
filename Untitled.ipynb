{
 "cells": [
  {
   "cell_type": "code",
   "execution_count": 70,
   "id": "c41ca27e",
   "metadata": {},
   "outputs": [
    {
     "data": {
      "text/plain": [
       "[0, 1]"
      ]
     },
     "execution_count": 70,
     "metadata": {},
     "output_type": "execute_result"
    }
   ],
   "source": [
    "# Two sum \n",
    "\n",
    "# class Solution:\n",
    "#     def twoSum(self, nums: List[int], target: int) -> List[int]:\n",
    "#         final = []\n",
    "#         count = 0\n",
    "#         for i in nums:\n",
    "#             second = target-i\n",
    "#             if nums.count(second) == 1 and i != second:\n",
    "#                 final.append(nums.index(i))\n",
    "#             if nums.count(second) >1:\n",
    "#                 final.append(count)\n",
    "#             count += 1\n",
    "#         return final\n",
    "        "
   ]
  },
  {
   "cell_type": "code",
   "execution_count": 28,
   "id": "e34cc58c",
   "metadata": {},
   "outputs": [
    {
     "name": "stdout",
     "output_type": "stream",
     "text": [
      "1\n"
     ]
    }
   ],
   "source": [
    "a = 'abcabcbb'\n",
    "count = 0\n",
    "for i in range(len(a)) :\n",
    "    if i+1 <= len(a)-1:\n",
    "        if a[i] != a[i+1]:\n",
    "            \n",
    "            count += 1\n",
    "        else:\n",
    "            count = 1\n",
    "    else:\n",
    "        count += 1\n",
    "print(count-1)"
   ]
  },
  {
   "cell_type": "code",
   "execution_count": 71,
   "id": "231d7e1b",
   "metadata": {},
   "outputs": [
    {
     "name": "stdout",
     "output_type": "stream",
     "text": [
      "1\n"
     ]
    }
   ],
   "source": [
    "a = [1,2,2]\n",
    "for i in a:\n",
    "    if(a.count(i) == 1):\n",
    "        print(i)"
   ]
  },
  {
   "cell_type": "code",
   "execution_count": 73,
   "id": "f0038d0a",
   "metadata": {},
   "outputs": [
    {
     "data": {
      "text/plain": [
       "['o', 'l', 'l', 'e', 'h']"
      ]
     },
     "execution_count": 73,
     "metadata": {},
     "output_type": "execute_result"
    }
   ],
   "source": [
    "s = ['h' , 'e' , 'l' , 'l' , 'o']\n",
    "s.reverse()\n",
    "s"
   ]
  },
  {
   "cell_type": "code",
   "execution_count": 78,
   "id": "4757ba34",
   "metadata": {},
   "outputs": [
    {
     "data": {
      "text/plain": [
       "['1',\n",
       " '2',\n",
       " 'Fizz',\n",
       " '4',\n",
       " 'Buzz',\n",
       " 'Fizz',\n",
       " '7',\n",
       " '8',\n",
       " 'Fizz',\n",
       " 'Buzz',\n",
       " '11',\n",
       " 'Fizz',\n",
       " '13',\n",
       " '14',\n",
       " 'FizzBuzz']"
      ]
     },
     "execution_count": 78,
     "metadata": {},
     "output_type": "execute_result"
    }
   ],
   "source": [
    "c = []\n",
    "for i in range(1,15+1):\n",
    "    if i%3 == 0 and i%5 == 0:\n",
    "        c.append('FizzBuzz')\n",
    "    elif i%3 == 0 and i%5 != 0:\n",
    "        c.append('Fizz')\n",
    "    elif i%3 != 0 and i%5 == 0:\n",
    "        c.append('Buzz')\n",
    "    else:\n",
    "        c.append(str(i))\n",
    "c"
   ]
  },
  {
   "cell_type": "code",
   "execution_count": 125,
   "id": "bf621aec",
   "metadata": {},
   "outputs": [],
   "source": [
    "a = 123\n",
    "b = str(a)\n",
    "c = list(b)\n",
    "d = []\n",
    "for i in c:\n",
    "    d.append(i)\n",
    "\n",
    "\n",
    "\n",
    "# if b == c:\n",
    "#     print(True)\n",
    "# else:\n",
    "#     print(False)"
   ]
  },
  {
   "cell_type": "code",
   "execution_count": 31,
   "id": "45da0eb0",
   "metadata": {},
   "outputs": [],
   "source": [
    "class Solution:\n",
    "    def moveZeroes(self, nums) :\n",
    "        ar = []\n",
    "        ap = []\n",
    "        ac = []\n",
    "        for i in nums:\n",
    "            if i != 0:\n",
    "                ar.append(i)\n",
    "            else:\n",
    "                ap.append(i)\n",
    "        return ar+ap     \n",
    "    \n",
    "a = Solution()"
   ]
  },
  {
   "cell_type": "code",
   "execution_count": 32,
   "id": "dc721379",
   "metadata": {},
   "outputs": [
    {
     "data": {
      "text/plain": [
       "[1, 3, 12, 0, 0]"
      ]
     },
     "execution_count": 32,
     "metadata": {},
     "output_type": "execute_result"
    }
   ],
   "source": [
    "a.moveZeroes([0,1,0,3,12])"
   ]
  },
  {
   "cell_type": "code",
   "execution_count": 5,
   "id": "e3bece2a",
   "metadata": {},
   "outputs": [
    {
     "name": "stdout",
     "output_type": "stream",
     "text": [
      "1\n"
     ]
    }
   ],
   "source": [
    "n = 0o00000000000000000000000000001011\n",
    "b= str(n)\n",
    "a = []\n",
    "for i in b:\n",
    "    if i == '1':\n",
    "        a.append(i)\n",
    "n = a\n",
    "print(len(n))\n",
    "        "
   ]
  },
  {
   "cell_type": "code",
   "execution_count": 21,
   "id": "f99a2c74",
   "metadata": {},
   "outputs": [
    {
     "name": "stdout",
     "output_type": "stream",
     "text": [
      "2\n"
     ]
    }
   ],
   "source": [
    "class Solution(object):\n",
    "    def missingNumber(self, nums):\n",
    "        b = nums.sort()\n",
    "        count = 0\n",
    "        for i in nums:\n",
    "            if i == count:\n",
    "                count += 1\n",
    "            else:\n",
    "                break\n",
    "        return count"
   ]
  },
  {
   "cell_type": "code",
   "execution_count": 25,
   "id": "1aca5642",
   "metadata": {},
   "outputs": [
    {
     "name": "stdout",
     "output_type": "stream",
     "text": [
      "3\n"
     ]
    }
   ],
   "source": [
    "# class Solution(object):\n",
    "#     def majorityElement(self, nums):\n",
    "#         for i in nums:\n",
    "#             if nums.count(i) > len(nums)/2:\n",
    "#                 return i\n",
    "#                 break\n",
    "        "
   ]
  },
  {
   "cell_type": "code",
   "execution_count": 39,
   "id": "0f4aa30d",
   "metadata": {},
   "outputs": [
    {
     "name": "stdout",
     "output_type": "stream",
     "text": [
      "False\n"
     ]
    }
   ],
   "source": [
    "# class Solution(object):\n",
    "#     def isAnagram(self, s, t):\n",
    "#         c = list(s)\n",
    "#         c.sort()\n",
    "#         d = list(t)\n",
    "#         d.sort()\n",
    "#         if c == d:\n",
    "#             return True\n",
    "#         else:\n",
    "#             return False"
   ]
  },
  {
   "cell_type": "code",
   "execution_count": 77,
   "id": "46813033",
   "metadata": {},
   "outputs": [
    {
     "data": {
      "text/plain": [
       "['John', 'Jenny', 'Charles', 'Christy', 'Mike', 'Monica']"
      ]
     },
     "execution_count": 77,
     "metadata": {},
     "output_type": "execute_result"
    }
   ],
   "source": [
    "a = [\"John\", \"Charles\", \"Mike\"]\n",
    "b = [\"Jenny\", \"Christy\", \"Monica\"]\n",
    "\n",
    "x = zip(a, b)\n",
    "c = list(x)\n",
    "d = []\n",
    "k = []\n",
    "for i in range(0 , len(a)):\n",
    "    d.append(list(c[i]))\n",
    "for i in range(0 , len(a)):\n",
    "    k = k + d[i]\n",
    "k"
   ]
  },
  {
   "cell_type": "code",
   "execution_count": 32,
   "id": "391e1dcc",
   "metadata": {},
   "outputs": [
    {
     "name": "stdout",
     "output_type": "stream",
     "text": [
      "2.5\n"
     ]
    }
   ],
   "source": [
    "nums1= [1,2]\n",
    "nums2= [3,4]\n",
    "nums3 = nums1 + nums2\n",
    "nums3.sort()\n",
    "len(nums3)\n",
    "if len(nums3) %2 != 0:\n",
    "    m = int(((len(nums3)+1)/2)-1)\n",
    "    print(nums3[m])\n",
    "else:\n",
    "    m = int(((len(nums3)+1)/2)-1)\n",
    "    n = int(((len(nums3)+1)/2))\n",
    "    print((nums3[m] +nums3[n])/2)\n",
    "    "
   ]
  },
  {
   "cell_type": "code",
   "execution_count": 48,
   "id": "dd8dd4fd",
   "metadata": {},
   "outputs": [
    {
     "name": "stdout",
     "output_type": "stream",
     "text": [
      "5\n"
     ]
    }
   ],
   "source": [
    "# class Solution:\n",
    "#     def maxProfit(self, prices: List[int]) -> int:\n",
    "#         a = min(prices)\n",
    "#         count = 0\n",
    "#         for i in prices:\n",
    "#             if i != a:\n",
    "#                 count += 1\n",
    "#             elif i == a:\n",
    "#                 prices = prices[count:]\n",
    "#         b = max(prices)\n",
    "#         return b-a"
   ]
  },
  {
   "cell_type": "code",
   "execution_count": 28,
   "id": "d28c659e",
   "metadata": {},
   "outputs": [
    {
     "name": "stdout",
     "output_type": "stream",
     "text": [
      "False\n"
     ]
    }
   ],
   "source": [
    "t = \"ahbgdc\"\n",
    "s = \"acb\"\n",
    "count = 0\n",
    "for i in s:\n",
    "    if t.count(i) > 0 :\n",
    "        a = t.find(i)\n",
    "        t = t[a+1:]\n",
    "    else:\n",
    "        count += 1\n",
    "if count == 0:\n",
    "    print(True)\n",
    "else:\n",
    "    print(False)\n",
    "        \n",
    "        \n"
   ]
  },
  {
   "cell_type": "code",
   "execution_count": null,
   "id": "3c30ae86",
   "metadata": {},
   "outputs": [],
   "source": []
  },
  {
   "cell_type": "code",
   "execution_count": null,
   "id": "2c90192f",
   "metadata": {},
   "outputs": [],
   "source": []
  },
  {
   "cell_type": "code",
   "execution_count": 23,
   "id": "4611c32a",
   "metadata": {},
   "outputs": [
    {
     "name": "stdout",
     "output_type": "stream",
     "text": [
      "2\n",
      "1\n"
     ]
    }
   ],
   "source": [
    "# a = 1\n",
    "# if(a == 1):\n",
    "# \"\"\"print('hello')\"\"\"\n",
    "print(True + 1)\n",
    "print(False + 1)\n"
   ]
  },
  {
   "cell_type": "code",
   "execution_count": 6,
   "id": "b431404d",
   "metadata": {},
   "outputs": [
    {
     "name": "stdout",
     "output_type": "stream",
     "text": [
      "ilove,ca*5,'%\n"
     ]
    }
   ],
   "source": [
    "print(\"\"\"ilove,ca*5,'%\"\"\")"
   ]
  },
  {
   "cell_type": "code",
   "execution_count": 31,
   "id": "381a863c",
   "metadata": {},
   "outputs": [
    {
     "name": "stdout",
     "output_type": "stream",
     "text": [
      "1010\n"
     ]
    }
   ],
   "source": [
    "# print(True + 1)\n",
    "# print(False + 1)\n",
    "print('10'+str('10'))"
   ]
  },
  {
   "cell_type": "code",
   "execution_count": 32,
   "id": "35e9f725",
   "metadata": {},
   "outputs": [],
   "source": [
    "import math"
   ]
  },
  {
   "cell_type": "code",
   "execution_count": 34,
   "id": "7c417c78",
   "metadata": {},
   "outputs": [
    {
     "data": {
      "text/plain": [
       "-1"
      ]
     },
     "execution_count": 34,
     "metadata": {},
     "output_type": "execute_result"
    }
   ],
   "source": [
    "math.ceil(-1.3)"
   ]
  },
  {
   "cell_type": "code",
   "execution_count": 35,
   "id": "b0714e91",
   "metadata": {},
   "outputs": [
    {
     "data": {
      "text/plain": [
       "4.0"
      ]
     },
     "execution_count": 35,
     "metadata": {},
     "output_type": "execute_result"
    }
   ],
   "source": [
    "math.fabs(-4)"
   ]
  },
  {
   "cell_type": "code",
   "execution_count": 36,
   "id": "096c3bc0",
   "metadata": {},
   "outputs": [
    {
     "data": {
      "text/plain": [
       "24"
      ]
     },
     "execution_count": 36,
     "metadata": {},
     "output_type": "execute_result"
    }
   ],
   "source": [
    "math.factorial(4)"
   ]
  },
  {
   "cell_type": "code",
   "execution_count": 41,
   "id": "164bea38",
   "metadata": {},
   "outputs": [
    {
     "data": {
      "text/plain": [
       "2138733439312"
      ]
     },
     "execution_count": 41,
     "metadata": {},
     "output_type": "execute_result"
    }
   ],
   "source": [
    "num1 = 2\n",
    "num3 = num1\n",
    "id(num3)"
   ]
  },
  {
   "cell_type": "code",
   "execution_count": 40,
   "id": "a76298d0",
   "metadata": {},
   "outputs": [
    {
     "data": {
      "text/plain": [
       "2138733439312"
      ]
     },
     "execution_count": 40,
     "metadata": {},
     "output_type": "execute_result"
    }
   ],
   "source": [
    "id(num1)"
   ]
  },
  {
   "cell_type": "code",
   "execution_count": 42,
   "id": "374ac5da",
   "metadata": {},
   "outputs": [
    {
     "name": "stdout",
     "output_type": "stream",
     "text": [
      "nono!!!\n"
     ]
    }
   ],
   "source": [
    "print(2*'no' +3*'!')"
   ]
  },
  {
   "cell_type": "code",
   "execution_count": 43,
   "id": "fc287092",
   "metadata": {},
   "outputs": [
    {
     "name": "stdout",
     "output_type": "stream",
     "text": [
      "no!!!no!!!\n"
     ]
    }
   ],
   "source": [
    "print(2*('no'+3*'!'))"
   ]
  },
  {
   "cell_type": "code",
   "execution_count": 24,
   "id": "a91bdc18",
   "metadata": {},
   "outputs": [
    {
     "data": {
      "text/plain": [
       "1"
      ]
     },
     "execution_count": 24,
     "metadata": {},
     "output_type": "execute_result"
    }
   ],
   "source": []
  },
  {
   "cell_type": "code",
   "execution_count": null,
   "id": "75979ae4",
   "metadata": {},
   "outputs": [],
   "source": []
  },
  {
   "cell_type": "code",
   "execution_count": null,
   "id": "71fb5c98",
   "metadata": {},
   "outputs": [],
   "source": []
  },
  {
   "cell_type": "code",
   "execution_count": null,
   "id": "bf9ab571",
   "metadata": {},
   "outputs": [],
   "source": []
  }
 ],
 "metadata": {
  "kernelspec": {
   "display_name": "Python 3 (ipykernel)",
   "language": "python",
   "name": "python3"
  },
  "language_info": {
   "codemirror_mode": {
    "name": "ipython",
    "version": 3
   },
   "file_extension": ".py",
   "mimetype": "text/x-python",
   "name": "python",
   "nbconvert_exporter": "python",
   "pygments_lexer": "ipython3",
   "version": "3.9.13"
  }
 },
 "nbformat": 4,
 "nbformat_minor": 5
}
